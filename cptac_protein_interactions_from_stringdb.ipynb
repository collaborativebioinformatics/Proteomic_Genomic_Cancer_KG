{
 "cells": [
  {
   "cell_type": "markdown",
   "id": "c8dd83ee-86ec-4e36-a7f7-b309504b02dd",
   "metadata": {},
   "source": [
    "# Filtering and parsing string-db for COAD associated interactions\n",
    "\n",
    "Download string-db for humans from [here](https://string-db.org/cgi/download?sessionId=bpHd4Ji7A7W6&species_text=Homo+sapiens&settings_expanded=0&min_download_score=0&filter_redundant_pairs=0&delimiter_type=txt) to same directory as this notebook.\n",
    "\n",
    "And download the CPTAC data [here](https://cptac-pancancer-data.s3.us-west-2.amazonaws.com/data_freeze_v1.2_reorganized/zip_files/COAD.zip) to same directory as this notebook.\n",
    "\n",
    "Strategy:\n",
    "- Identify top 50 genes associated with CPTAC from Open Targets Platform\n",
    "- Subset interaction database to only include interactions that include at least one of these CPTAC associated genes\n",
    "- Remove interactions with score < 400 (this is an arbitrary threshold for now, but this can be made more statistically rigorous)\n",
    "- Cross-reference proteins against those measured in CPTAC phosphoproteomics (the rationale for this is that we want to use actual patient omics data for prediction, so the graph should be restricted to genes/proteins for which we will have measurements), and keep only those interactions where both proteins are present in the CPTAC data. **This is the final relevant PPI for the graph neural network to take as input**"
   ]
  },
  {
   "cell_type": "code",
   "execution_count": 1,
   "id": "72a69c43-ad0e-4d64-bbc1-8775a5ebd8c0",
   "metadata": {
    "execution": {
     "iopub.execute_input": "2025-10-03T13:33:52.921900Z",
     "iopub.status.busy": "2025-10-03T13:33:52.921449Z",
     "iopub.status.idle": "2025-10-03T13:33:53.869106Z",
     "shell.execute_reply": "2025-10-03T13:33:53.867959Z",
     "shell.execute_reply.started": "2025-10-03T13:33:52.921870Z"
    }
   },
   "outputs": [
    {
     "ename": "ModuleNotFoundError",
     "evalue": "No module named 'pandas'",
     "output_type": "error",
     "traceback": [
      "\u001b[31m---------------------------------------------------------------------------\u001b[39m",
      "\u001b[31mModuleNotFoundError\u001b[39m                       Traceback (most recent call last)",
      "\u001b[36mCell\u001b[39m\u001b[36m \u001b[39m\u001b[32mIn[1]\u001b[39m\u001b[32m, line 4\u001b[39m\n\u001b[32m      2\u001b[39m \u001b[38;5;28;01mfrom\u001b[39;00m\u001b[38;5;250m \u001b[39m\u001b[34;01mtyping\u001b[39;00m\u001b[38;5;250m \u001b[39m\u001b[38;5;28;01mimport\u001b[39;00m List, Set\n\u001b[32m      3\u001b[39m \u001b[38;5;28;01mimport\u001b[39;00m\u001b[38;5;250m \u001b[39m\u001b[34;01mnumpy\u001b[39;00m\u001b[38;5;250m \u001b[39m\u001b[38;5;28;01mas\u001b[39;00m\u001b[38;5;250m \u001b[39m\u001b[34;01mnp\u001b[39;00m\n\u001b[32m----> \u001b[39m\u001b[32m4\u001b[39m \u001b[38;5;28;01mimport\u001b[39;00m\u001b[38;5;250m \u001b[39m\u001b[34;01mpandas\u001b[39;00m\u001b[38;5;250m \u001b[39m\u001b[38;5;28;01mas\u001b[39;00m\u001b[38;5;250m \u001b[39m\u001b[34;01mpd\u001b[39;00m\n\u001b[32m      5\u001b[39m \u001b[38;5;28;01mimport\u001b[39;00m\u001b[38;5;250m \u001b[39m\u001b[34;01mrequests\u001b[39;00m\n",
      "\u001b[31mModuleNotFoundError\u001b[39m: No module named 'pandas'"
     ]
    }
   ],
   "source": [
    "import matplotlib.pyplot as plt\n",
    "from typing import List, Set\n",
    "import numpy as np\n",
    "import pandas as pd\n",
    "import requests"
   ]
  },
  {
   "cell_type": "code",
   "execution_count": null,
   "id": "e1a97260-624c-4652-b147-bf38a4750df4",
   "metadata": {
    "execution": {
     "iopub.execute_input": "2025-10-03T13:33:53.870093Z",
     "iopub.status.busy": "2025-10-03T13:33:53.869729Z",
     "iopub.status.idle": "2025-10-03T13:33:53.878224Z",
     "shell.execute_reply": "2025-10-03T13:33:53.877312Z",
     "shell.execute_reply.started": "2025-10-03T13:33:53.870069Z"
    }
   },
   "outputs": [],
   "source": [
    "def subset_interaction_db(\n",
    "    input_file: str,\n",
    "    output_file: str,\n",
    "    proteins_of_interest: List[str],\n",
    "    how: str = \"either\",\n",
    "    delimiter: str = \" \"\n",
    "):\n",
    "    \"\"\"\n",
    "    Subset a protein-protein interaction file:\n",
    "    - Removes the '9606.' prefix from protein IDs\n",
    "    - Keeps only rows with proteins of interest\n",
    "    - Tracks and returns all scores for distribution analysis\n",
    "    \n",
    "    Args:\n",
    "        input_file: Path to the PPI file (with header).\n",
    "        output_file: Path to save filtered results.\n",
    "        proteins_of_interest: List of protein IDs (without 9606. prefix).\n",
    "        delimiter: Column separator (default: space).\n",
    "    \n",
    "    Returns:\n",
    "        List of scores (floats).\n",
    "    \"\"\"\n",
    "    poi_set: Set[str] = set(proteins_of_interest)\n",
    "    scores = []\n",
    "\n",
    "    with open(input_file, \"r\") as infile, open(output_file, \"w\") as outfile:\n",
    "        header = infile.readline().strip().split(delimiter)\n",
    "        outfile.write(delimiter.join(header) + \"\\n\")  # write header\n",
    "\n",
    "        for line in infile:\n",
    "            parts = line.strip().split(delimiter)\n",
    "            if len(parts) < 3:\n",
    "                continue  # skip malformed lines\n",
    "\n",
    "            p1 = parts[0]\n",
    "            p2 = parts[1]\n",
    "            score = float(parts[2])\n",
    "            \n",
    "            if how == \"either\":\n",
    "                if (p1 in poi_set) | (p2 in poi_set):\n",
    "                    outfile.write(f\"{p1}{delimiter}{p2}{delimiter}{score}\\n\")\n",
    "                    scores.append(score)\n",
    "\n",
    "            else:\n",
    "                if (p1 in poi_set) & (p2 in poi_set):\n",
    "                    outfile.write(f\"{p1}{delimiter}{p2}{delimiter}{score}\\n\")\n",
    "                    scores.append(score)\n",
    "\n",
    "    return scores"
   ]
  },
  {
   "cell_type": "code",
   "execution_count": null,
   "id": "85dbaf55-374b-4421-9180-7a3a0e13e0b8",
   "metadata": {
    "execution": {
     "iopub.execute_input": "2025-10-03T13:33:53.880611Z",
     "iopub.status.busy": "2025-10-03T13:33:53.880282Z",
     "iopub.status.idle": "2025-10-03T13:33:53.884950Z",
     "shell.execute_reply": "2025-10-03T13:33:53.884134Z",
     "shell.execute_reply.started": "2025-10-03T13:33:53.880579Z"
    }
   },
   "outputs": [],
   "source": [
    "def plot_score_distribution(scores, bins=50):\n",
    "    \"\"\"Plot histogram of scores.\"\"\"\n",
    "    plt.figure(figsize=(7, 5))\n",
    "    plt.hist(scores, bins=bins, edgecolor=\"black\", alpha=0.7)\n",
    "    plt.xlabel(\"PPI Score\")\n",
    "    plt.ylabel(\"Frequency\")\n",
    "    plt.title(\"Distribution of Protein-Protein Interaction Scores\\nfor Involving COAD-associated Proteins from Open Targets\")\n",
    "    plt.show()"
   ]
  },
  {
   "cell_type": "code",
   "execution_count": null,
   "id": "06a192c9-ca06-43f9-a73e-ce84bd700040",
   "metadata": {
    "execution": {
     "iopub.execute_input": "2025-10-03T13:33:53.886436Z",
     "iopub.status.busy": "2025-10-03T13:33:53.886046Z",
     "iopub.status.idle": "2025-10-03T13:33:53.890694Z",
     "shell.execute_reply": "2025-10-03T13:33:53.889950Z",
     "shell.execute_reply.started": "2025-10-03T13:33:53.886407Z"
    }
   },
   "outputs": [],
   "source": [
    "def map_genes_to_string_ids(gene_list, species=9606):\n",
    "    \"\"\"\n",
    "    Maps the gene names to canonical protein IDs.\n",
    "    Note that this is information from String-DB. \n",
    "    \"\"\"\n",
    "    url = \"https://string-db.org/api/json/get_string_ids\"\n",
    "    params = {\n",
    "        \"identifiers\": \"%0d\".join(gene_list),\n",
    "        \"species\": species\n",
    "    }\n",
    "    response = requests.get(url, params=params)\n",
    "    response.raise_for_status()\n",
    "    data = response.json()\n",
    "    \n",
    "    mapping = {}\n",
    "    for entry in data:\n",
    "        mapping[entry[\"queryItem\"]] = entry[\"stringId\"]  # e.g., \"9606.ENSP00000269305\"\n",
    "    return mapping\n"
   ]
  },
  {
   "cell_type": "markdown",
   "id": "5415aa36-5b24-4ebb-b44e-8f25e28a0d39",
   "metadata": {},
   "source": [
    "These are the top 50 genes associated with COAD in Open Targets Platform"
   ]
  },
  {
   "cell_type": "code",
   "execution_count": null,
   "id": "d1cf2479-c603-4b96-b25e-f9f34ca732b6",
   "metadata": {
    "execution": {
     "iopub.execute_input": "2025-10-03T13:34:42.680869Z",
     "iopub.status.busy": "2025-10-03T13:34:42.680582Z",
     "iopub.status.idle": "2025-10-03T13:34:42.685170Z",
     "shell.execute_reply": "2025-10-03T13:34:42.684082Z",
     "shell.execute_reply.started": "2025-10-03T13:34:42.680845Z"
    }
   },
   "outputs": [],
   "source": [
    "top_associated_genes = [\"APC\", \"KRAS\", \"EGFR\", \"BRAF\", \"PIK3CA\", \"FBXW7\", \"TP53\", \"TCF7L2\", \"ERBB2\",\"ATM\", \n",
    "                        \"AMER1\", \"MET\", \"SMAD4\", \"NRAS\", \"MSH6\", \"PTEN\", \"ARID1A\", \"RNF43\", \"NTRK1\", \"SMAD2\", \n",
    "                        \"ERBB3\", \"AKT1\", \"BCL9L\",\"FBXO11\",\"POLE\",\"GNAS\",\"KDR\",\"MLH1\",\"MSH2\",\"ACVR2A\",\n",
    "                        \"MAP2K1\",\"PIK3R1\",\"SMAD3\",\"ALK\",\"MUTYH\",\"FLT4\",\"TGFBR2\",\"RBM10\",\"MTOR\",\"AR\",\n",
    "                        \"TERT\",\"PMS2\",\"USP6\",\"BCORL1\",\"PCBP1\",\"FAT4\",\"EP300\",\"RAF1\",\"BCOR\",\"PDGFRB\"]"
   ]
  },
  {
   "cell_type": "code",
   "execution_count": null,
   "id": "4b9dd08a-eaaa-45c2-a37b-670c82223191",
   "metadata": {
    "execution": {
     "iopub.execute_input": "2025-10-03T13:34:44.704798Z",
     "iopub.status.busy": "2025-10-03T13:34:44.704520Z",
     "iopub.status.idle": "2025-10-03T13:34:44.964927Z",
     "shell.execute_reply": "2025-10-03T13:34:44.963966Z",
     "shell.execute_reply.started": "2025-10-03T13:34:44.704777Z"
    }
   },
   "outputs": [],
   "source": [
    "ensembleIDs = map_genes_to_string_ids(top_associated_genes)"
   ]
  },
  {
   "cell_type": "code",
   "execution_count": null,
   "id": "c3f0ee90-b792-4617-9347-964792dacffe",
   "metadata": {
    "execution": {
     "iopub.execute_input": "2025-10-03T13:16:33.381925Z",
     "iopub.status.busy": "2025-10-03T13:16:33.381681Z",
     "iopub.status.idle": "2025-10-03T13:16:41.174398Z",
     "shell.execute_reply": "2025-10-03T13:16:41.173550Z",
     "shell.execute_reply.started": "2025-10-03T13:16:33.381905Z"
    },
    "scrolled": true
   },
   "outputs": [],
   "source": [
    "scores = subset_interaction_db(input_file=\"./9606.protein.links.v12.0.txt\", \n",
    "                               output_file=\"./open.targets.COAD.associated.protein.links.txt\", \n",
    "                               proteins_of_interest=list(ensembleIDs.values()))"
   ]
  },
  {
   "cell_type": "code",
   "execution_count": null,
   "id": "483344b8-444a-48ce-8326-5e4d294db032",
   "metadata": {
    "execution": {
     "iopub.execute_input": "2025-10-03T13:16:41.177616Z",
     "iopub.status.busy": "2025-10-03T13:16:41.177319Z",
     "iopub.status.idle": "2025-10-03T13:16:41.199044Z",
     "shell.execute_reply": "2025-10-03T13:16:41.198204Z",
     "shell.execute_reply.started": "2025-10-03T13:16:41.177593Z"
    }
   },
   "outputs": [],
   "source": [
    "scores = np.array(scores)"
   ]
  },
  {
   "cell_type": "code",
   "execution_count": null,
   "id": "8174694f-9b1b-4096-9822-018cf963f5e2",
   "metadata": {
    "execution": {
     "iopub.execute_input": "2025-10-03T13:16:41.200324Z",
     "iopub.status.busy": "2025-10-03T13:16:41.200007Z",
     "iopub.status.idle": "2025-10-03T13:16:41.500018Z",
     "shell.execute_reply": "2025-10-03T13:16:41.499077Z",
     "shell.execute_reply.started": "2025-10-03T13:16:41.200295Z"
    }
   },
   "outputs": [],
   "source": [
    "plot_score_distribution(scores)"
   ]
  },
  {
   "cell_type": "markdown",
   "id": "08fd3f71-db44-4cd2-a0a7-78c837dcfcdb",
   "metadata": {},
   "source": [
    "I'm arbitrarily using 400 as a cutoff for considering an interaction significant. I understand that this isn't super statistically rigorous. This can be the focus of future improvements to the approach"
   ]
  },
  {
   "cell_type": "code",
   "execution_count": null,
   "id": "a60e4bdc-1302-4602-9e98-6549b280a0df",
   "metadata": {
    "execution": {
     "iopub.execute_input": "2025-10-03T13:16:41.501835Z",
     "iopub.status.busy": "2025-10-03T13:16:41.501582Z",
     "iopub.status.idle": "2025-10-03T13:16:41.507262Z",
     "shell.execute_reply": "2025-10-03T13:16:41.506121Z",
     "shell.execute_reply.started": "2025-10-03T13:16:41.501814Z"
    }
   },
   "outputs": [],
   "source": [
    "def filter_by_score(\n",
    "    input_file: str,\n",
    "    output_file: str,\n",
    "    threshold: float,\n",
    "    delimiter: str = \" \"\n",
    ") -> Set[str]:\n",
    "    \"\"\"\n",
    "    Filter a subsetted PPI file by score threshold and collect unique proteins.\n",
    "\n",
    "    Args:\n",
    "        input_file: Path to the subsetted PPI file (with header).\n",
    "        output_file: Path to save the filtered results.\n",
    "        threshold: Minimum score to keep.\n",
    "        delimiter: Column separator (default: space).\n",
    "    \n",
    "    Returns:\n",
    "        A set of unique protein IDs present in the filtered file.\n",
    "    \"\"\"\n",
    "    unique_proteins: Set[str] = set()\n",
    "\n",
    "    with open(input_file, \"r\") as infile, open(output_file, \"w\") as outfile:\n",
    "        header = infile.readline().strip()\n",
    "        outfile.write(header + \"\\n\")\n",
    "\n",
    "        for line in infile:\n",
    "            parts = line.strip().split(delimiter)\n",
    "            if len(parts) < 3:\n",
    "                continue\n",
    "            p1, p2, score_str = parts\n",
    "            score = float(score_str)\n",
    "\n",
    "            if score >= threshold:\n",
    "                outfile.write(line)\n",
    "                unique_proteins.update([p1, p2])\n",
    "\n",
    "    return unique_proteins"
   ]
  },
  {
   "cell_type": "code",
   "execution_count": null,
   "id": "96eb2aee-15bc-4355-984f-a8720a5e7e46",
   "metadata": {
    "execution": {
     "iopub.execute_input": "2025-10-03T13:16:41.508791Z",
     "iopub.status.busy": "2025-10-03T13:16:41.508198Z",
     "iopub.status.idle": "2025-10-03T13:16:41.643047Z",
     "shell.execute_reply": "2025-10-03T13:16:41.642345Z",
     "shell.execute_reply.started": "2025-10-03T13:16:41.508760Z"
    }
   },
   "outputs": [],
   "source": [
    "unique_protein_IDs = filter_by_score(input_file=\"./open.targets.COAD.associated.protein.links.txt\", \n",
    "                output_file=\"./open.targets.COAD.associated.protein.links.filtered.txt\", threshold=400)"
   ]
  },
  {
   "cell_type": "code",
   "execution_count": null,
   "id": "e6dae9e0-e4c0-497f-9ed5-f5eced71e2d9",
   "metadata": {
    "execution": {
     "iopub.execute_input": "2025-10-03T13:16:41.644458Z",
     "iopub.status.busy": "2025-10-03T13:16:41.644134Z",
     "iopub.status.idle": "2025-10-03T13:16:41.648673Z",
     "shell.execute_reply": "2025-10-03T13:16:41.647746Z",
     "shell.execute_reply.started": "2025-10-03T13:16:41.644427Z"
    },
    "scrolled": true
   },
   "outputs": [],
   "source": [
    "stringDB_protein_IDs = [prot for prot in unique_protein_IDs]"
   ]
  },
  {
   "cell_type": "markdown",
   "id": "2ca74b15-ed35-4f68-83d8-f22769a7e201",
   "metadata": {},
   "source": [
    "## Cross referencing these against proteins in phosphoproteomic data\n",
    "\n",
    "Since the goal is to use this knowledge graph for graph neural network models that take CPTAC-COAD data, we need to make sure to subset the interaction network to only contain those pairs for which we have experimental measurements. Here, I'll subset the list of links such that both interaction partners have measurements in CPTAC phosphoprot"
   ]
  },
  {
   "cell_type": "code",
   "execution_count": null,
   "id": "29fb98d6-eb5c-421c-84e4-775ff5d45052",
   "metadata": {
    "execution": {
     "iopub.execute_input": "2025-10-03T13:16:41.651969Z",
     "iopub.status.busy": "2025-10-03T13:16:41.651640Z",
     "iopub.status.idle": "2025-10-03T13:16:42.139814Z",
     "shell.execute_reply": "2025-10-03T13:16:42.139115Z",
     "shell.execute_reply.started": "2025-10-03T13:16:41.651938Z"
    }
   },
   "outputs": [],
   "source": [
    "### modify the file path here!!!\n",
    "phosphoproteome = pd.read_csv(\"./COAD/COAD_phospho_site_abundance_log2_reference_intensity_normalized_Tumor.txt\",\n",
    "                             sep=\"\\t\", index_col=0).T"
   ]
  },
  {
   "cell_type": "code",
   "execution_count": null,
   "id": "1d47684e-7c0e-459a-baea-5e97533a8658",
   "metadata": {
    "execution": {
     "iopub.execute_input": "2025-10-03T13:16:42.141064Z",
     "iopub.status.busy": "2025-10-03T13:16:42.140767Z",
     "iopub.status.idle": "2025-10-03T13:16:42.173120Z",
     "shell.execute_reply": "2025-10-03T13:16:42.172421Z",
     "shell.execute_reply.started": "2025-10-03T13:16:42.141036Z"
    }
   },
   "outputs": [],
   "source": [
    "phosphoproteome"
   ]
  },
  {
   "cell_type": "code",
   "execution_count": null,
   "id": "6a589b3c-f882-40f2-adfa-b5684dc625dc",
   "metadata": {
    "execution": {
     "iopub.execute_input": "2025-10-03T13:16:42.176246Z",
     "iopub.status.busy": "2025-10-03T13:16:42.175998Z",
     "iopub.status.idle": "2025-10-03T13:16:42.200638Z",
     "shell.execute_reply": "2025-10-03T13:16:42.199164Z",
     "shell.execute_reply.started": "2025-10-03T13:16:42.176224Z"
    }
   },
   "outputs": [],
   "source": [
    "cptac_protein_IDS = [col.split(\"|\")[1] for col in phosphoproteome.columns]\n",
    "cptac_protein_IDS = [\"9606.\"+prot.split(\".\")[0] for prot in cptac_protein_IDS]"
   ]
  },
  {
   "cell_type": "code",
   "execution_count": null,
   "id": "465827ee-62de-497b-b359-21b227ef4465",
   "metadata": {
    "execution": {
     "iopub.execute_input": "2025-10-03T13:16:42.202021Z",
     "iopub.status.busy": "2025-10-03T13:16:42.201688Z",
     "iopub.status.idle": "2025-10-03T13:16:42.211434Z",
     "shell.execute_reply": "2025-10-03T13:16:42.210352Z",
     "shell.execute_reply.started": "2025-10-03T13:16:42.201992Z"
    },
    "scrolled": true
   },
   "outputs": [],
   "source": [
    "len(set(stringDB_protein_IDs) & set(cptac_protein_IDS))"
   ]
  },
  {
   "cell_type": "markdown",
   "id": "f877a746-6308-4bd2-800d-84640e01554a",
   "metadata": {},
   "source": [
    "Excellent: there are ~2,300 proteins in the protein-protein interaction network that are shared with the phosphoproteomic data. Since we can only model these genes with data from CPTAC, I'll create one further subset of the interaction network where both of the interacting genes are also present in the multi-omic data. "
   ]
  },
  {
   "cell_type": "code",
   "execution_count": null,
   "id": "83b8db8f-be2b-42ac-93f6-c917c43ba253",
   "metadata": {
    "execution": {
     "iopub.execute_input": "2025-10-03T13:16:42.212630Z",
     "iopub.status.busy": "2025-10-03T13:16:42.212308Z",
     "iopub.status.idle": "2025-10-03T13:16:42.263810Z",
     "shell.execute_reply": "2025-10-03T13:16:42.262984Z",
     "shell.execute_reply.started": "2025-10-03T13:16:42.212599Z"
    }
   },
   "outputs": [],
   "source": [
    "scores_final = subset_interaction_db(input_file=\"./open.targets.COAD.associated.protein.links.filtered.txt\",\n",
    "                      output_file=\"./open.targets.COAD.associated.protein.links.cptac.txt\",\n",
    "                      proteins_of_interest=list(set(stringDB_protein_IDs) & set(cptac_protein_IDS)),\n",
    "                      how='both')"
   ]
  },
  {
   "cell_type": "code",
   "execution_count": null,
   "id": "d78c6b71-3c45-4683-aa4b-a9a63f4ad338",
   "metadata": {
    "execution": {
     "iopub.execute_input": "2025-10-03T13:16:42.265076Z",
     "iopub.status.busy": "2025-10-03T13:16:42.264683Z",
     "iopub.status.idle": "2025-10-03T13:16:42.272880Z",
     "shell.execute_reply": "2025-10-03T13:16:42.272041Z",
     "shell.execute_reply.started": "2025-10-03T13:16:42.265044Z"
    }
   },
   "outputs": [],
   "source": [
    "print(f\"Final PPI network generated with {len(scores_final)} edges \\\n",
    "and {len(set(stringDB_protein_IDs) & set(cptac_protein_IDS))} nodes.\")"
   ]
  },
  {
   "cell_type": "code",
   "execution_count": null,
   "id": "785bc682-005d-4b73-8fe1-7ed0f78c3206",
   "metadata": {},
   "outputs": [],
   "source": []
  }
 ],
 "metadata": {
  "kernelspec": {
   "display_name": "cptac",
   "language": "python",
   "name": "python3"
  },
  "language_info": {
   "codemirror_mode": {
    "name": "ipython",
    "version": 3
   },
   "file_extension": ".py",
   "mimetype": "text/x-python",
   "name": "python",
   "nbconvert_exporter": "python",
   "pygments_lexer": "ipython3",
   "version": "3.12.0"
  }
 },
 "nbformat": 4,
 "nbformat_minor": 5
}
